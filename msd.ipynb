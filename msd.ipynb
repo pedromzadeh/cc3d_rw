{
 "cells": [
  {
   "cell_type": "markdown",
   "metadata": {},
   "source": [
    "### Toy Random Walker"
   ]
  },
  {
   "cell_type": "code",
   "execution_count": null,
   "metadata": {},
   "outputs": [],
   "source": [
    "import numpy as np\n",
    "import matplotlib.pyplot as plt\n",
    "\n",
    "\n",
    "def update_polarity(v, mag, D, dt):\n",
    "    theta = np.arctan2(v[1], v[0])\n",
    "    theta += np.random.normal(0, 1) * np.sqrt(2 * D * dt)\n",
    "    return mag * np.array([np.cos(theta), np.sin(theta)])\n",
    "\n",
    "\n",
    "def init_cell_polarity():\n",
    "    theta = np.random.uniform(0, 2 * np.pi)\n",
    "    return 10 * np.array([np.cos(theta), np.sin(theta)])\n",
    "\n",
    "\n",
    "def MSD(X, upper_lim=1000):\n",
    "    msd = []\n",
    "    lag_times = np.arange(1, X.shape[0] - upper_lim)\n",
    "    for n in lag_times:\n",
    "        dr = X[n:] - X[:-n]\n",
    "        msd.append((np.linalg.norm(dr, axis=1) ** 2).mean())\n",
    "    return lag_times, np.array(msd)"
   ]
  },
  {
   "cell_type": "code",
   "execution_count": null,
   "metadata": {},
   "outputs": [],
   "source": [
    "D = 5\n",
    "dt = 0.01\n",
    "mag = 10\n",
    "N = 10000\n",
    "\n",
    "r = [[0, 0]]\n",
    "v = [init_cell_polarity()]\n",
    "\n",
    "for n in range(N):\n",
    "    v_new = update_polarity(v[n], mag, D, dt)\n",
    "    v.append(v_new)\n",
    "    r.append(r[n] + v[n] * dt)"
   ]
  },
  {
   "cell_type": "code",
   "execution_count": null,
   "metadata": {},
   "outputs": [],
   "source": [
    "fig, axs = plt.subplots(1, 2, figsize=(5, 1.5), dpi=200)\n",
    "\n",
    "r = np.array(r)\n",
    "axs[0].scatter(r[:, 0], r[:, 1], c=range(r.shape[0]), s=5)\n",
    "\n",
    "lag_times, msd = MSD(r)\n",
    "lag_times = lag_times * dt\n",
    "a = 5000\n",
    "axs[1].plot(lag_times, msd, color=\"black\", lw=2)\n",
    "axs[1].plot(\n",
    "    lag_times[100:],\n",
    "    a * lag_times[100:],\n",
    "    lw=1,\n",
    "    ls=\"dashed\",\n",
    "    color=\"salmon\",\n",
    "    label=r\"$\\sim \\tau$\",\n",
    ")\n",
    "axs[1].plot(\n",
    "    lag_times[:50],\n",
    "    a * lag_times[:50] ** 2,\n",
    "    lw=1,\n",
    "    ls=\"dashed\",\n",
    "    color=\"cornflowerblue\",\n",
    "    label=r\"$\\sim \\tau^2$\",\n",
    ")\n",
    "axs[1].set_xscale(\"log\")\n",
    "axs[1].set_yscale(\"log\")\n",
    "axs[1].set_xscale(\"log\")\n",
    "axs[1].set_xlabel(\"Lag time \" + r\"$\\tau$\")\n",
    "axs[1].set_ylabel(\"MSD\")\n",
    "axs[1].legend(bbox_to_anchor=(1, 1))\n",
    "\n",
    "fig.subplots_adjust(wspace=0.75)\n",
    "plt.show()"
   ]
  },
  {
   "cell_type": "markdown",
   "metadata": {},
   "source": [
    "---"
   ]
  },
  {
   "cell_type": "markdown",
   "metadata": {},
   "source": [
    "### CompuCell Random Walker"
   ]
  },
  {
   "cell_type": "code",
   "execution_count": null,
   "metadata": {},
   "outputs": [],
   "source": [
    "from glob import glob\n",
    "\n",
    "fig, ax = plt.subplots(1, 1, figsize=(2, 2), dpi=200)\n",
    "cmap = plt.get_cmap(\"tab10\")\n",
    "\n",
    "for k, file in enumerate(glob(\"output/*\")):\n",
    "    cm_track = np.load(open(file, \"rb\"))\n",
    "    ax.scatter(*cm_track[0], s=100, marker=\"*\", color=cmap(k))\n",
    "    ax.scatter(*cm_track[-1], s=100, marker=\"+\", color=cmap(k))\n",
    "    ax.scatter(cm_track[:, 0], cm_track[:, 1], s=0.1, color=cmap(k), alpha=0.05)\n",
    "\n",
    "ax.set_xlabel(r\"$x$\")\n",
    "ax.set_ylabel(r\"$y$\")\n",
    "# ax.set_xlim((0, 100))\n",
    "# ax.set_ylim((0, 100))\n",
    "plt.show()"
   ]
  },
  {
   "cell_type": "code",
   "execution_count": null,
   "metadata": {},
   "outputs": [],
   "source": [
    "dt = 0.01\n",
    "cm_track = np.load(open(\"output/com_track_cellID_1.npy\", \"rb\"))\n",
    "print(cm_track.shape)\n",
    "\n",
    "lag_times, msd = MSD(cm_track)\n",
    "lag_times = lag_times * dt\n",
    "x = np.arange(msd.size)\n",
    "\n",
    "fig, axs = plt.subplots(1, 2, figsize=(5, 1.5), dpi=200)\n",
    "axs[0].scatter(\n",
    "    cm_track[:, 0],\n",
    "    cm_track[:, 1],\n",
    "    c=np.arange(cm_track.shape[0]),\n",
    "    cmap=\"viridis\",\n",
    "    s=5,\n",
    ")\n",
    "axs[0].set_xlabel(r\"$x$\")\n",
    "axs[0].set_ylabel(r\"$y$\")\n",
    "# axs[0].set_xlim((0, 500))\n",
    "# axs[0].set_ylim((0, 500))\n",
    "\n",
    "a = 5000\n",
    "axs[1].plot(lag_times, msd, color=\"black\", lw=2)\n",
    "axs[1].plot(\n",
    "    lag_times[100:],\n",
    "    a * lag_times[100:],\n",
    "    lw=1,\n",
    "    ls=\"dashed\",\n",
    "    color=\"salmon\",\n",
    "    label=r\"$\\sim \\tau$\",\n",
    ")\n",
    "axs[1].plot(\n",
    "    lag_times[:50],\n",
    "    a * lag_times[:50] ** 2,\n",
    "    lw=1,\n",
    "    ls=\"dashed\",\n",
    "    color=\"cornflowerblue\",\n",
    "    label=r\"$\\sim \\tau^2$\",\n",
    ")\n",
    "axs[1].set_xscale(\"log\")\n",
    "axs[1].set_yscale(\"log\")\n",
    "axs[1].set_xscale(\"log\")\n",
    "axs[1].set_xlabel(\"Lag time \" + r\"$\\tau$\")\n",
    "axs[1].set_ylabel(\"MSD\")\n",
    "axs[1].vlines(\n",
    "    1 / (1.5),\n",
    "    *plt.ylim(),\n",
    "    lw=1,\n",
    "    color=\"black\",\n",
    "    ls=\"dashed\",\n",
    "    label=r\"$1/D_{\\theta}$\",\n",
    ")\n",
    "axs[1].legend(bbox_to_anchor=(1, 1))\n",
    "\n",
    "fig.subplots_adjust(wspace=0.75)\n",
    "plt.show()"
   ]
  }
 ],
 "metadata": {
  "kernelspec": {
   "display_name": "cc3d",
   "language": "python",
   "name": "python3"
  },
  "language_info": {
   "codemirror_mode": {
    "name": "ipython",
    "version": 3
   },
   "file_extension": ".py",
   "mimetype": "text/x-python",
   "name": "python",
   "nbconvert_exporter": "python",
   "pygments_lexer": "ipython3",
   "version": "3.10.12"
  }
 },
 "nbformat": 4,
 "nbformat_minor": 2
}
